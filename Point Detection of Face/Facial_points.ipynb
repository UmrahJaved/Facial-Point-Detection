{
 "cells": [
  {
   "cell_type": "markdown",
   "metadata": {},
   "source": [
    "### Importing Libraries"
   ]
  },
  {
   "cell_type": "code",
   "execution_count": 1,
   "metadata": {},
   "outputs": [],
   "source": [
    "import cv2\n",
    "import mediapipe as mp\n",
    "import numpy as np\n",
    "import itertools"
   ]
  },
  {
   "cell_type": "markdown",
   "metadata": {},
   "source": [
    "### Indexes of Landmarks\n",
    "List of Indexes of face layout, lips, left eye, left eyebrow, right eye, right eyebrow"
   ]
  },
  {
   "cell_type": "markdown",
   "metadata": {},
   "source": [
    "Links:\n",
    "\n",
    "https://github.com/google/mediapipe/blob/master/mediapipe/modules/face_geometry/data/canonical_face_model_uv_visualization.png\n",
    "https://github.com/google/mediapipe/blob/master/mediapipe/python/solutions/face_mesh_connections.py"
   ]
  },
  {
   "cell_type": "code",
   "execution_count": 2,
   "metadata": {},
   "outputs": [],
   "source": [
    "points_face = [10, 338, 297, 332, 284, 251, 389, 356, 454, 323, 361, 288,397,365,379,378,400,377,152,148,176,149,150,\n",
    "                        136,172,58,132,93,234,127,162,21,54,103,67,109]"
   ]
  },
  {
   "cell_type": "code",
   "execution_count": 3,
   "metadata": {},
   "outputs": [],
   "source": [
    "points_lips = [61,146,91,181,84,17,314,405,321,375,291,61,185,40,39,37,0,267,269,270,409,291,78,95,88,178,87,14,317,402,\n",
    "                       318,324,308,78,191,80,81,82,13,312,311,310,415,308]"
   ]
  },
  {
   "cell_type": "code",
   "execution_count": 4,
   "metadata": {},
   "outputs": [],
   "source": [
    "points_left_eye = [263,249,390,373,374,380,381,382,263,466,388,387,386,385,384,398,362]"
   ]
  },
  {
   "cell_type": "code",
   "execution_count": 5,
   "metadata": {},
   "outputs": [],
   "source": [
    "points_left_eyebrow = [276,283,282,295,285,300,293,334,296,336]"
   ]
  },
  {
   "cell_type": "code",
   "execution_count": 6,
   "metadata": {},
   "outputs": [],
   "source": [
    "points_right_eye = [33,7,163,144,145,153,154,155,33,246,161,160,159,158,157,173,133]"
   ]
  },
  {
   "cell_type": "code",
   "execution_count": 7,
   "metadata": {},
   "outputs": [],
   "source": [
    "points_right_eyebrow = [46,53,52,65,70,63,105,66,107]"
   ]
  },
  {
   "cell_type": "markdown",
   "metadata": {},
   "source": [
    "### List of Indexes of Face "
   ]
  },
  {
   "cell_type": "code",
   "execution_count": 8,
   "metadata": {},
   "outputs": [
    {
     "data": {
      "text/plain": [
       "133"
      ]
     },
     "execution_count": 8,
     "metadata": {},
     "output_type": "execute_result"
    }
   ],
   "source": [
    "face = points_face + points_lips + points_left_eye + points_left_eyebrow + points_right_eye + points_right_eyebrow\n",
    "len(face)"
   ]
  },
  {
   "cell_type": "markdown",
   "metadata": {},
   "source": [
    "### Face Mesh using Face Indexes"
   ]
  },
  {
   "cell_type": "code",
   "execution_count": 9,
   "metadata": {},
   "outputs": [
    {
     "name": "stdout",
     "output_type": "stream",
     "text": [
      "Wall time: 0 ns\n"
     ]
    }
   ],
   "source": [
    "\n",
    "%time\n",
    "\n",
    "# Face Mesh variables\n",
    "mp_face_mesh = mp.solutions.face_mesh\n",
    "face_mesh = mp_face_mesh.FaceMesh()\n",
    "\n",
    "# Video Input\n",
    "cap = cv2.VideoCapture(\"VDO2018HD_041.mov\")\n",
    "\n",
    "while True:\n",
    "    # Image\n",
    "    ret, image = cap.read()\n",
    "    if ret is not True:\n",
    "        break\n",
    "    height, width, _ = image.shape\n",
    "    \n",
    "    rgb_image = cv2.cvtColor(image,cv2.COLOR_BGR2RGB)\n",
    "    result = face_mesh.process(rgb_image)\n",
    "    \n",
    "    if result.multi_face_landmarks is not None:\n",
    "        for face_landmarks in result.multi_face_landmarks:\n",
    "            for index in face[::3]:   #(with interval of 3)\n",
    "                x = int(face_landmarks.landmark[index].x * width)\n",
    "                y = int(face_landmarks.landmark[index].y * height)\n",
    "                cv2.circle(image, (x, y), 2, (100, 0, 100), 2)\n",
    "\n",
    "                #cv2.imshow('image',image)\n",
    "                #cv2.waitKey(1)\n",
    "\n",
    "#out = cv2.VideoWriter('outpy.avi',cv2.VideoWriter_fourcc('M','J','P','G'), 10, (width,height))\n",
    "\n"
   ]
  },
  {
   "cell_type": "markdown",
   "metadata": {},
   "source": [
    "https://github.com/google/mediapipe/blob/master/mediapipe/python/solutions/face_mesh.py"
   ]
  },
  {
   "cell_type": "markdown",
   "metadata": {},
   "source": [
    "Important Link : https://github.com/google/mediapipe/blob/master/mediapipe/python/solutions/face_mesh_connections.py\n",
    "\n",
    "It contains frozen sets for all the indexes and the part of the face"
   ]
  },
  {
   "cell_type": "code",
   "execution_count": 10,
   "metadata": {},
   "outputs": [
    {
     "name": "stdout",
     "output_type": "stream",
     "text": [
      "[0, 7, 10, 13, 14, 17, 21, 33, 37, 39, 40, 46, 52, 53, 54, 55, 58, 61, 63, 65, 66, 67, 70, 78, 80, 81, 82, 84, 87, 88, 91, 93, 95, 103, 105, 107, 109, 127, 132, 133, 136, 144, 145, 146, 148, 149, 150, 152, 153, 154, 155, 157, 158, 159, 160, 161, 162, 163, 172, 173, 176, 178, 181, 185, 191, 234, 246, 249, 251, 263, 267, 269, 270, 276, 282, 283, 284, 285, 288, 291, 293, 295, 296, 297, 300, 308, 310, 311, 312, 314, 317, 318, 321, 323, 324, 332, 334, 336, 338, 356, 361, 362, 365, 373, 374, 375, 377, 378, 379, 380, 381, 382, 384, 385, 386, 387, 388, 389, 390, 397, 398, 400, 402, 405, 409, 415, 454, 466] <class 'list'>\n"
     ]
    }
   ],
   "source": [
    "# Indexes from facemesh.process\n",
    "\n",
    "''' \n",
    "FACEMESH_CONTOURS = frozenset().union(*[\n",
    "    FACEMESH_LIPS, FACEMESH_LEFT_EYE, FACEMESH_LEFT_EYEBROW, FACEMESH_RIGHT_EYE,\n",
    "    FACEMESH_RIGHT_EYEBROW, FACEMESH_FACE_OVAL\n",
    "'''\n",
    "\n",
    "FACEMESH_CONTOURS_INDEXES = list(set(itertools.chain(*mp_face_mesh.FACEMESH_CONTOURS)))\n",
    "print(FACEMESH_CONTOURS_INDEXES,type(FACEMESH_CONTOURS_INDEXES))"
   ]
  },
  {
   "cell_type": "code",
   "execution_count": null,
   "metadata": {},
   "outputs": [],
   "source": []
  }
 ],
 "metadata": {
  "kernelspec": {
   "display_name": "Python 3 (ipykernel)",
   "language": "python",
   "name": "python3"
  },
  "language_info": {
   "codemirror_mode": {
    "name": "ipython",
    "version": 3
   },
   "file_extension": ".py",
   "mimetype": "text/x-python",
   "name": "python",
   "nbconvert_exporter": "python",
   "pygments_lexer": "ipython3",
   "version": "3.9.7"
  },
  "vscode": {
   "interpreter": {
    "hash": "ad2bdc8ecc057115af97d19610ffacc2b4e99fae6737bb82f5d7fb13d2f2c186"
   }
  }
 },
 "nbformat": 4,
 "nbformat_minor": 2
}
